{
 "cells": [
  {
   "cell_type": "markdown",
   "id": "f0fe7ca4",
   "metadata": {
    "papermill": {
     "duration": 0.013422,
     "end_time": "2024-09-06T07:54:04.438740",
     "exception": false,
     "start_time": "2024-09-06T07:54:04.425318",
     "status": "completed"
    },
    "tags": []
   },
   "source": [
    "# Titanic Project\n",
    "My first ML project done using hints from Titanic tutorial by Alexis Cook and Titanic Project Example Walk Through by Ken Jee."
   ]
  },
  {
   "cell_type": "code",
   "execution_count": 1,
   "id": "0df3aa6b",
   "metadata": {
    "_cell_guid": "b1076dfc-b9ad-4769-8c92-a6c4dae69d19",
    "_uuid": "8f2839f25d086af736a60e9eeb907d3b93b6e0e5",
    "execution": {
     "iopub.execute_input": "2024-09-06T07:54:04.466983Z",
     "iopub.status.busy": "2024-09-06T07:54:04.466523Z",
     "iopub.status.idle": "2024-09-06T07:54:07.440292Z",
     "shell.execute_reply": "2024-09-06T07:54:07.438978Z"
    },
    "papermill": {
     "duration": 2.991072,
     "end_time": "2024-09-06T07:54:07.442914",
     "exception": false,
     "start_time": "2024-09-06T07:54:04.451842",
     "status": "completed"
    },
    "tags": []
   },
   "outputs": [
    {
     "name": "stdout",
     "output_type": "stream",
     "text": [
      "/kaggle/input/titanic/train.csv\n",
      "/kaggle/input/titanic/test.csv\n",
      "/kaggle/input/titanic/gender_submission.csv\n"
     ]
    }
   ],
   "source": [
    "# This Python 3 environment comes with many helpful analytics libraries installed\n",
    "# It is defined by the kaggle/python Docker image: https://github.com/kaggle/docker-python\n",
    "# For example, here's several helpful packages to load\n",
    "\n",
    "import numpy as np # linear algebra\n",
    "import pandas as pd # data processing, CSV file I/O (e.g. pd.read_csv)\n",
    "import matplotlib.pyplot as plt\n",
    "import seaborn as sns\n",
    "\n",
    "# Input data files are available in the read-only \"../input/\" directory\n",
    "# For example, running this (by clicking run or pressing Shift+Enter) will list all files under the input directory\n",
    "\n",
    "import os\n",
    "for dirname, _, filenames in os.walk('/kaggle/input'):\n",
    "    for filename in filenames:\n",
    "        print(os.path.join(dirname, filename))\n",
    "\n",
    "# You can write up to 20GB to the current directory (/kaggle/working/) that gets preserved as output when you create a version using \"Save & Run All\" \n",
    "# You can also write temporary files to /kaggle/temp/, but they won't be saved outside of the current session"
   ]
  },
  {
   "cell_type": "markdown",
   "id": "a5b1a539",
   "metadata": {
    "papermill": {
     "duration": 0.010508,
     "end_time": "2024-09-06T07:54:07.465426",
     "exception": false,
     "start_time": "2024-09-06T07:54:07.454918",
     "status": "completed"
    },
    "tags": []
   },
   "source": [
    "Import the training set, which shall be used for data analysis. "
   ]
  },
  {
   "cell_type": "code",
   "execution_count": 2,
   "id": "7be14758",
   "metadata": {
    "execution": {
     "iopub.execute_input": "2024-09-06T07:54:07.490114Z",
     "iopub.status.busy": "2024-09-06T07:54:07.489545Z",
     "iopub.status.idle": "2024-09-06T07:54:07.541176Z",
     "shell.execute_reply": "2024-09-06T07:54:07.539918Z"
    },
    "papermill": {
     "duration": 0.06788,
     "end_time": "2024-09-06T07:54:07.544023",
     "exception": false,
     "start_time": "2024-09-06T07:54:07.476143",
     "status": "completed"
    },
    "tags": []
   },
   "outputs": [
    {
     "data": {
      "text/html": [
       "<div>\n",
       "<style scoped>\n",
       "    .dataframe tbody tr th:only-of-type {\n",
       "        vertical-align: middle;\n",
       "    }\n",
       "\n",
       "    .dataframe tbody tr th {\n",
       "        vertical-align: top;\n",
       "    }\n",
       "\n",
       "    .dataframe thead th {\n",
       "        text-align: right;\n",
       "    }\n",
       "</style>\n",
       "<table border=\"1\" class=\"dataframe\">\n",
       "  <thead>\n",
       "    <tr style=\"text-align: right;\">\n",
       "      <th></th>\n",
       "      <th>PassengerId</th>\n",
       "      <th>Survived</th>\n",
       "      <th>Pclass</th>\n",
       "      <th>Name</th>\n",
       "      <th>Sex</th>\n",
       "      <th>Age</th>\n",
       "      <th>SibSp</th>\n",
       "      <th>Parch</th>\n",
       "      <th>Ticket</th>\n",
       "      <th>Fare</th>\n",
       "      <th>Cabin</th>\n",
       "      <th>Embarked</th>\n",
       "    </tr>\n",
       "  </thead>\n",
       "  <tbody>\n",
       "    <tr>\n",
       "      <th>0</th>\n",
       "      <td>1</td>\n",
       "      <td>0</td>\n",
       "      <td>3</td>\n",
       "      <td>Braund, Mr. Owen Harris</td>\n",
       "      <td>male</td>\n",
       "      <td>22.0</td>\n",
       "      <td>1</td>\n",
       "      <td>0</td>\n",
       "      <td>A/5 21171</td>\n",
       "      <td>7.2500</td>\n",
       "      <td>NaN</td>\n",
       "      <td>S</td>\n",
       "    </tr>\n",
       "    <tr>\n",
       "      <th>1</th>\n",
       "      <td>2</td>\n",
       "      <td>1</td>\n",
       "      <td>1</td>\n",
       "      <td>Cumings, Mrs. John Bradley (Florence Briggs Th...</td>\n",
       "      <td>female</td>\n",
       "      <td>38.0</td>\n",
       "      <td>1</td>\n",
       "      <td>0</td>\n",
       "      <td>PC 17599</td>\n",
       "      <td>71.2833</td>\n",
       "      <td>C85</td>\n",
       "      <td>C</td>\n",
       "    </tr>\n",
       "    <tr>\n",
       "      <th>2</th>\n",
       "      <td>3</td>\n",
       "      <td>1</td>\n",
       "      <td>3</td>\n",
       "      <td>Heikkinen, Miss. Laina</td>\n",
       "      <td>female</td>\n",
       "      <td>26.0</td>\n",
       "      <td>0</td>\n",
       "      <td>0</td>\n",
       "      <td>STON/O2. 3101282</td>\n",
       "      <td>7.9250</td>\n",
       "      <td>NaN</td>\n",
       "      <td>S</td>\n",
       "    </tr>\n",
       "    <tr>\n",
       "      <th>3</th>\n",
       "      <td>4</td>\n",
       "      <td>1</td>\n",
       "      <td>1</td>\n",
       "      <td>Futrelle, Mrs. Jacques Heath (Lily May Peel)</td>\n",
       "      <td>female</td>\n",
       "      <td>35.0</td>\n",
       "      <td>1</td>\n",
       "      <td>0</td>\n",
       "      <td>113803</td>\n",
       "      <td>53.1000</td>\n",
       "      <td>C123</td>\n",
       "      <td>S</td>\n",
       "    </tr>\n",
       "    <tr>\n",
       "      <th>4</th>\n",
       "      <td>5</td>\n",
       "      <td>0</td>\n",
       "      <td>3</td>\n",
       "      <td>Allen, Mr. William Henry</td>\n",
       "      <td>male</td>\n",
       "      <td>35.0</td>\n",
       "      <td>0</td>\n",
       "      <td>0</td>\n",
       "      <td>373450</td>\n",
       "      <td>8.0500</td>\n",
       "      <td>NaN</td>\n",
       "      <td>S</td>\n",
       "    </tr>\n",
       "  </tbody>\n",
       "</table>\n",
       "</div>"
      ],
      "text/plain": [
       "   PassengerId  Survived  Pclass  \\\n",
       "0            1         0       3   \n",
       "1            2         1       1   \n",
       "2            3         1       3   \n",
       "3            4         1       1   \n",
       "4            5         0       3   \n",
       "\n",
       "                                                Name     Sex   Age  SibSp  \\\n",
       "0                            Braund, Mr. Owen Harris    male  22.0      1   \n",
       "1  Cumings, Mrs. John Bradley (Florence Briggs Th...  female  38.0      1   \n",
       "2                             Heikkinen, Miss. Laina  female  26.0      0   \n",
       "3       Futrelle, Mrs. Jacques Heath (Lily May Peel)  female  35.0      1   \n",
       "4                           Allen, Mr. William Henry    male  35.0      0   \n",
       "\n",
       "   Parch            Ticket     Fare Cabin Embarked  \n",
       "0      0         A/5 21171   7.2500   NaN        S  \n",
       "1      0          PC 17599  71.2833   C85        C  \n",
       "2      0  STON/O2. 3101282   7.9250   NaN        S  \n",
       "3      0            113803  53.1000  C123        S  \n",
       "4      0            373450   8.0500   NaN        S  "
      ]
     },
     "execution_count": 2,
     "metadata": {},
     "output_type": "execute_result"
    }
   ],
   "source": [
    "train_data = pd.read_csv('/kaggle/input/titanic/train.csv')\n",
    "train_data.head()"
   ]
  },
  {
   "cell_type": "markdown",
   "id": "3d6b1be7",
   "metadata": {
    "papermill": {
     "duration": 0.011299,
     "end_time": "2024-09-06T07:54:07.567217",
     "exception": false,
     "start_time": "2024-09-06T07:54:07.555918",
     "status": "completed"
    },
    "tags": []
   },
   "source": [
    "Import the test set, which shall be used to validate the model. "
   ]
  },
  {
   "cell_type": "code",
   "execution_count": 3,
   "id": "366829d0",
   "metadata": {
    "execution": {
     "iopub.execute_input": "2024-09-06T07:54:07.592373Z",
     "iopub.status.busy": "2024-09-06T07:54:07.591015Z",
     "iopub.status.idle": "2024-09-06T07:54:07.617906Z",
     "shell.execute_reply": "2024-09-06T07:54:07.616694Z"
    },
    "papermill": {
     "duration": 0.041663,
     "end_time": "2024-09-06T07:54:07.620315",
     "exception": false,
     "start_time": "2024-09-06T07:54:07.578652",
     "status": "completed"
    },
    "tags": []
   },
   "outputs": [
    {
     "data": {
      "text/html": [
       "<div>\n",
       "<style scoped>\n",
       "    .dataframe tbody tr th:only-of-type {\n",
       "        vertical-align: middle;\n",
       "    }\n",
       "\n",
       "    .dataframe tbody tr th {\n",
       "        vertical-align: top;\n",
       "    }\n",
       "\n",
       "    .dataframe thead th {\n",
       "        text-align: right;\n",
       "    }\n",
       "</style>\n",
       "<table border=\"1\" class=\"dataframe\">\n",
       "  <thead>\n",
       "    <tr style=\"text-align: right;\">\n",
       "      <th></th>\n",
       "      <th>PassengerId</th>\n",
       "      <th>Pclass</th>\n",
       "      <th>Name</th>\n",
       "      <th>Sex</th>\n",
       "      <th>Age</th>\n",
       "      <th>SibSp</th>\n",
       "      <th>Parch</th>\n",
       "      <th>Ticket</th>\n",
       "      <th>Fare</th>\n",
       "      <th>Cabin</th>\n",
       "      <th>Embarked</th>\n",
       "    </tr>\n",
       "  </thead>\n",
       "  <tbody>\n",
       "    <tr>\n",
       "      <th>0</th>\n",
       "      <td>892</td>\n",
       "      <td>3</td>\n",
       "      <td>Kelly, Mr. James</td>\n",
       "      <td>male</td>\n",
       "      <td>34.5</td>\n",
       "      <td>0</td>\n",
       "      <td>0</td>\n",
       "      <td>330911</td>\n",
       "      <td>7.8292</td>\n",
       "      <td>NaN</td>\n",
       "      <td>Q</td>\n",
       "    </tr>\n",
       "    <tr>\n",
       "      <th>1</th>\n",
       "      <td>893</td>\n",
       "      <td>3</td>\n",
       "      <td>Wilkes, Mrs. James (Ellen Needs)</td>\n",
       "      <td>female</td>\n",
       "      <td>47.0</td>\n",
       "      <td>1</td>\n",
       "      <td>0</td>\n",
       "      <td>363272</td>\n",
       "      <td>7.0000</td>\n",
       "      <td>NaN</td>\n",
       "      <td>S</td>\n",
       "    </tr>\n",
       "    <tr>\n",
       "      <th>2</th>\n",
       "      <td>894</td>\n",
       "      <td>2</td>\n",
       "      <td>Myles, Mr. Thomas Francis</td>\n",
       "      <td>male</td>\n",
       "      <td>62.0</td>\n",
       "      <td>0</td>\n",
       "      <td>0</td>\n",
       "      <td>240276</td>\n",
       "      <td>9.6875</td>\n",
       "      <td>NaN</td>\n",
       "      <td>Q</td>\n",
       "    </tr>\n",
       "    <tr>\n",
       "      <th>3</th>\n",
       "      <td>895</td>\n",
       "      <td>3</td>\n",
       "      <td>Wirz, Mr. Albert</td>\n",
       "      <td>male</td>\n",
       "      <td>27.0</td>\n",
       "      <td>0</td>\n",
       "      <td>0</td>\n",
       "      <td>315154</td>\n",
       "      <td>8.6625</td>\n",
       "      <td>NaN</td>\n",
       "      <td>S</td>\n",
       "    </tr>\n",
       "    <tr>\n",
       "      <th>4</th>\n",
       "      <td>896</td>\n",
       "      <td>3</td>\n",
       "      <td>Hirvonen, Mrs. Alexander (Helga E Lindqvist)</td>\n",
       "      <td>female</td>\n",
       "      <td>22.0</td>\n",
       "      <td>1</td>\n",
       "      <td>1</td>\n",
       "      <td>3101298</td>\n",
       "      <td>12.2875</td>\n",
       "      <td>NaN</td>\n",
       "      <td>S</td>\n",
       "    </tr>\n",
       "  </tbody>\n",
       "</table>\n",
       "</div>"
      ],
      "text/plain": [
       "   PassengerId  Pclass                                          Name     Sex  \\\n",
       "0          892       3                              Kelly, Mr. James    male   \n",
       "1          893       3              Wilkes, Mrs. James (Ellen Needs)  female   \n",
       "2          894       2                     Myles, Mr. Thomas Francis    male   \n",
       "3          895       3                              Wirz, Mr. Albert    male   \n",
       "4          896       3  Hirvonen, Mrs. Alexander (Helga E Lindqvist)  female   \n",
       "\n",
       "    Age  SibSp  Parch   Ticket     Fare Cabin Embarked  \n",
       "0  34.5      0      0   330911   7.8292   NaN        Q  \n",
       "1  47.0      1      0   363272   7.0000   NaN        S  \n",
       "2  62.0      0      0   240276   9.6875   NaN        Q  \n",
       "3  27.0      0      0   315154   8.6625   NaN        S  \n",
       "4  22.0      1      1  3101298  12.2875   NaN        S  "
      ]
     },
     "execution_count": 3,
     "metadata": {},
     "output_type": "execute_result"
    }
   ],
   "source": [
    "test_data = pd.read_csv('/kaggle/input/titanic/test.csv')\n",
    "test_data.head()"
   ]
  },
  {
   "cell_type": "code",
   "execution_count": 4,
   "id": "6506a11a",
   "metadata": {
    "execution": {
     "iopub.execute_input": "2024-09-06T07:54:07.645270Z",
     "iopub.status.busy": "2024-09-06T07:54:07.644831Z",
     "iopub.status.idle": "2024-09-06T07:54:07.664346Z",
     "shell.execute_reply": "2024-09-06T07:54:07.663194Z"
    },
    "papermill": {
     "duration": 0.034967,
     "end_time": "2024-09-06T07:54:07.667062",
     "exception": false,
     "start_time": "2024-09-06T07:54:07.632095",
     "status": "completed"
    },
    "tags": []
   },
   "outputs": [
    {
     "data": {
      "text/plain": [
       "Index(['PassengerId', 'Survived', 'Pclass', 'Name', 'Sex', 'Age', 'SibSp',\n",
       "       'Parch', 'Ticket', 'Fare', 'Cabin', 'Embarked', 'train_test'],\n",
       "      dtype='object')"
      ]
     },
     "execution_count": 4,
     "metadata": {},
     "output_type": "execute_result"
    }
   ],
   "source": [
    "# create a switch between train (=1) and test (=0) data, because we will consider all data at once later\n",
    "train_data['train_test'] = 1\n",
    "test_data['train_test'] = 0\n",
    "test_data['Survived'] = np.NaN \n",
    "\n",
    "# merge data for later analysis \n",
    "all_data = pd.concat([train_data, test_data])\n",
    "\n",
    "%matplotlib inline \n",
    "all_data.columns\n",
    "#all_data"
   ]
  },
  {
   "cell_type": "markdown",
   "id": "33b6cb4e",
   "metadata": {
    "papermill": {
     "duration": 0.010985,
     "end_time": "2024-09-06T07:54:07.689608",
     "exception": false,
     "start_time": "2024-09-06T07:54:07.678623",
     "status": "completed"
    },
    "tags": []
   },
   "source": [
    "Check the percentage of survived women and men. "
   ]
  },
  {
   "cell_type": "code",
   "execution_count": 5,
   "id": "6c9bc894",
   "metadata": {
    "execution": {
     "iopub.execute_input": "2024-09-06T07:54:07.714191Z",
     "iopub.status.busy": "2024-09-06T07:54:07.713732Z",
     "iopub.status.idle": "2024-09-06T07:54:07.724398Z",
     "shell.execute_reply": "2024-09-06T07:54:07.723090Z"
    },
    "papermill": {
     "duration": 0.026045,
     "end_time": "2024-09-06T07:54:07.727138",
     "exception": false,
     "start_time": "2024-09-06T07:54:07.701093",
     "status": "completed"
    },
    "tags": []
   },
   "outputs": [
    {
     "name": "stdout",
     "output_type": "stream",
     "text": [
      "% of women who survived 0.7420382165605095\n"
     ]
    }
   ],
   "source": [
    "women = train_data.loc[train_data.Sex == 'female']['Survived']\n",
    "rate_women = sum(women)/len(women)\n",
    "\n",
    "print('% of women who survived', rate_women)"
   ]
  },
  {
   "cell_type": "code",
   "execution_count": 6,
   "id": "b7bfc436",
   "metadata": {
    "execution": {
     "iopub.execute_input": "2024-09-06T07:54:07.752265Z",
     "iopub.status.busy": "2024-09-06T07:54:07.751838Z",
     "iopub.status.idle": "2024-09-06T07:54:07.760608Z",
     "shell.execute_reply": "2024-09-06T07:54:07.759421Z"
    },
    "papermill": {
     "duration": 0.024533,
     "end_time": "2024-09-06T07:54:07.763218",
     "exception": false,
     "start_time": "2024-09-06T07:54:07.738685",
     "status": "completed"
    },
    "tags": []
   },
   "outputs": [
    {
     "name": "stdout",
     "output_type": "stream",
     "text": [
      "% of men who survived 0.18890814558058924\n"
     ]
    }
   ],
   "source": [
    "men = train_data.loc[train_data.Sex == 'male']['Survived']\n",
    "rate_men = sum(men)/len(men)\n",
    "\n",
    "print('% of men who survived', rate_men)"
   ]
  },
  {
   "cell_type": "markdown",
   "id": "812fe23a",
   "metadata": {
    "papermill": {
     "duration": 0.01124,
     "end_time": "2024-09-06T07:54:07.786876",
     "exception": false,
     "start_time": "2024-09-06T07:54:07.775636",
     "status": "completed"
    },
    "tags": []
   },
   "source": [
    "It seems that the hypothesis saying that all women survived wasn't a abad initial guess. Nevertheless, in what follows, we perform more deep analysis of the training set.  "
   ]
  },
  {
   "cell_type": "markdown",
   "id": "82a59039",
   "metadata": {
    "papermill": {
     "duration": 0.011134,
     "end_time": "2024-09-06T07:54:07.809526",
     "exception": false,
     "start_time": "2024-09-06T07:54:07.798392",
     "status": "completed"
    },
    "tags": []
   },
   "source": [
    "## Data Exploration \n",
    "For numerical data, we shall plot some histograms to understand distributions. For categorical data, we make some bar charts to understand balance of classes. "
   ]
  },
  {
   "cell_type": "code",
   "execution_count": 7,
   "id": "749c7f5a",
   "metadata": {
    "execution": {
     "iopub.execute_input": "2024-09-06T07:54:07.834565Z",
     "iopub.status.busy": "2024-09-06T07:54:07.834137Z",
     "iopub.status.idle": "2024-09-06T07:54:07.859218Z",
     "shell.execute_reply": "2024-09-06T07:54:07.858082Z"
    },
    "papermill": {
     "duration": 0.040217,
     "end_time": "2024-09-06T07:54:07.861642",
     "exception": false,
     "start_time": "2024-09-06T07:54:07.821425",
     "status": "completed"
    },
    "tags": []
   },
   "outputs": [
    {
     "name": "stdout",
     "output_type": "stream",
     "text": [
      "<class 'pandas.core.frame.DataFrame'>\n",
      "RangeIndex: 891 entries, 0 to 890\n",
      "Data columns (total 13 columns):\n",
      " #   Column       Non-Null Count  Dtype  \n",
      "---  ------       --------------  -----  \n",
      " 0   PassengerId  891 non-null    int64  \n",
      " 1   Survived     891 non-null    int64  \n",
      " 2   Pclass       891 non-null    int64  \n",
      " 3   Name         891 non-null    object \n",
      " 4   Sex          891 non-null    object \n",
      " 5   Age          714 non-null    float64\n",
      " 6   SibSp        891 non-null    int64  \n",
      " 7   Parch        891 non-null    int64  \n",
      " 8   Ticket       891 non-null    object \n",
      " 9   Fare         891 non-null    float64\n",
      " 10  Cabin        204 non-null    object \n",
      " 11  Embarked     889 non-null    object \n",
      " 12  train_test   891 non-null    int64  \n",
      "dtypes: float64(2), int64(6), object(5)\n",
      "memory usage: 90.6+ KB\n"
     ]
    }
   ],
   "source": [
    "# show data types and non-null counts\n",
    "train_data.info()"
   ]
  },
  {
   "cell_type": "code",
   "execution_count": 8,
   "id": "dcc74d30",
   "metadata": {
    "execution": {
     "iopub.execute_input": "2024-09-06T07:54:07.886597Z",
     "iopub.status.busy": "2024-09-06T07:54:07.886161Z",
     "iopub.status.idle": "2024-09-06T07:54:07.921454Z",
     "shell.execute_reply": "2024-09-06T07:54:07.920325Z"
    },
    "papermill": {
     "duration": 0.050713,
     "end_time": "2024-09-06T07:54:07.923988",
     "exception": false,
     "start_time": "2024-09-06T07:54:07.873275",
     "status": "completed"
    },
    "tags": []
   },
   "outputs": [
    {
     "data": {
      "text/html": [
       "<div>\n",
       "<style scoped>\n",
       "    .dataframe tbody tr th:only-of-type {\n",
       "        vertical-align: middle;\n",
       "    }\n",
       "\n",
       "    .dataframe tbody tr th {\n",
       "        vertical-align: top;\n",
       "    }\n",
       "\n",
       "    .dataframe thead th {\n",
       "        text-align: right;\n",
       "    }\n",
       "</style>\n",
       "<table border=\"1\" class=\"dataframe\">\n",
       "  <thead>\n",
       "    <tr style=\"text-align: right;\">\n",
       "      <th></th>\n",
       "      <th>PassengerId</th>\n",
       "      <th>Survived</th>\n",
       "      <th>Pclass</th>\n",
       "      <th>Age</th>\n",
       "      <th>SibSp</th>\n",
       "      <th>Parch</th>\n",
       "      <th>Fare</th>\n",
       "      <th>train_test</th>\n",
       "    </tr>\n",
       "  </thead>\n",
       "  <tbody>\n",
       "    <tr>\n",
       "      <th>count</th>\n",
       "      <td>891.000000</td>\n",
       "      <td>891.000000</td>\n",
       "      <td>891.000000</td>\n",
       "      <td>714.000000</td>\n",
       "      <td>891.000000</td>\n",
       "      <td>891.000000</td>\n",
       "      <td>891.000000</td>\n",
       "      <td>891.0</td>\n",
       "    </tr>\n",
       "    <tr>\n",
       "      <th>mean</th>\n",
       "      <td>446.000000</td>\n",
       "      <td>0.383838</td>\n",
       "      <td>2.308642</td>\n",
       "      <td>29.699118</td>\n",
       "      <td>0.523008</td>\n",
       "      <td>0.381594</td>\n",
       "      <td>32.204208</td>\n",
       "      <td>1.0</td>\n",
       "    </tr>\n",
       "    <tr>\n",
       "      <th>std</th>\n",
       "      <td>257.353842</td>\n",
       "      <td>0.486592</td>\n",
       "      <td>0.836071</td>\n",
       "      <td>14.526497</td>\n",
       "      <td>1.102743</td>\n",
       "      <td>0.806057</td>\n",
       "      <td>49.693429</td>\n",
       "      <td>0.0</td>\n",
       "    </tr>\n",
       "    <tr>\n",
       "      <th>min</th>\n",
       "      <td>1.000000</td>\n",
       "      <td>0.000000</td>\n",
       "      <td>1.000000</td>\n",
       "      <td>0.420000</td>\n",
       "      <td>0.000000</td>\n",
       "      <td>0.000000</td>\n",
       "      <td>0.000000</td>\n",
       "      <td>1.0</td>\n",
       "    </tr>\n",
       "    <tr>\n",
       "      <th>25%</th>\n",
       "      <td>223.500000</td>\n",
       "      <td>0.000000</td>\n",
       "      <td>2.000000</td>\n",
       "      <td>20.125000</td>\n",
       "      <td>0.000000</td>\n",
       "      <td>0.000000</td>\n",
       "      <td>7.910400</td>\n",
       "      <td>1.0</td>\n",
       "    </tr>\n",
       "    <tr>\n",
       "      <th>50%</th>\n",
       "      <td>446.000000</td>\n",
       "      <td>0.000000</td>\n",
       "      <td>3.000000</td>\n",
       "      <td>28.000000</td>\n",
       "      <td>0.000000</td>\n",
       "      <td>0.000000</td>\n",
       "      <td>14.454200</td>\n",
       "      <td>1.0</td>\n",
       "    </tr>\n",
       "    <tr>\n",
       "      <th>75%</th>\n",
       "      <td>668.500000</td>\n",
       "      <td>1.000000</td>\n",
       "      <td>3.000000</td>\n",
       "      <td>38.000000</td>\n",
       "      <td>1.000000</td>\n",
       "      <td>0.000000</td>\n",
       "      <td>31.000000</td>\n",
       "      <td>1.0</td>\n",
       "    </tr>\n",
       "    <tr>\n",
       "      <th>max</th>\n",
       "      <td>891.000000</td>\n",
       "      <td>1.000000</td>\n",
       "      <td>3.000000</td>\n",
       "      <td>80.000000</td>\n",
       "      <td>8.000000</td>\n",
       "      <td>6.000000</td>\n",
       "      <td>512.329200</td>\n",
       "      <td>1.0</td>\n",
       "    </tr>\n",
       "  </tbody>\n",
       "</table>\n",
       "</div>"
      ],
      "text/plain": [
       "       PassengerId    Survived      Pclass         Age       SibSp  \\\n",
       "count   891.000000  891.000000  891.000000  714.000000  891.000000   \n",
       "mean    446.000000    0.383838    2.308642   29.699118    0.523008   \n",
       "std     257.353842    0.486592    0.836071   14.526497    1.102743   \n",
       "min       1.000000    0.000000    1.000000    0.420000    0.000000   \n",
       "25%     223.500000    0.000000    2.000000   20.125000    0.000000   \n",
       "50%     446.000000    0.000000    3.000000   28.000000    0.000000   \n",
       "75%     668.500000    1.000000    3.000000   38.000000    1.000000   \n",
       "max     891.000000    1.000000    3.000000   80.000000    8.000000   \n",
       "\n",
       "            Parch        Fare  train_test  \n",
       "count  891.000000  891.000000       891.0  \n",
       "mean     0.381594   32.204208         1.0  \n",
       "std      0.806057   49.693429         0.0  \n",
       "min      0.000000    0.000000         1.0  \n",
       "25%      0.000000    7.910400         1.0  \n",
       "50%      0.000000   14.454200         1.0  \n",
       "75%      0.000000   31.000000         1.0  \n",
       "max      6.000000  512.329200         1.0  "
      ]
     },
     "execution_count": 8,
     "metadata": {},
     "output_type": "execute_result"
    }
   ],
   "source": [
    "# for the numeric data we use .describe()\n",
    "# shows COUNT, MEAN, STD, MIN, MAX, PERCENTILES\n",
    "train_data.describe()"
   ]
  },
  {
   "cell_type": "code",
   "execution_count": 9,
   "id": "90a1c6e7",
   "metadata": {
    "execution": {
     "iopub.execute_input": "2024-09-06T07:54:07.949961Z",
     "iopub.status.busy": "2024-09-06T07:54:07.949161Z",
     "iopub.status.idle": "2024-09-06T07:54:07.975451Z",
     "shell.execute_reply": "2024-09-06T07:54:07.974149Z"
    },
    "papermill": {
     "duration": 0.042369,
     "end_time": "2024-09-06T07:54:07.978410",
     "exception": false,
     "start_time": "2024-09-06T07:54:07.936041",
     "status": "completed"
    },
    "tags": []
   },
   "outputs": [
    {
     "data": {
      "text/plain": [
       "Index(['PassengerId', 'Survived', 'Pclass', 'Age', 'SibSp', 'Parch', 'Fare',\n",
       "       'train_test'],\n",
       "      dtype='object')"
      ]
     },
     "execution_count": 9,
     "metadata": {},
     "output_type": "execute_result"
    }
   ],
   "source": [
    "# reveal the numeric columns\n",
    "train_data.describe().columns"
   ]
  },
  {
   "cell_type": "code",
   "execution_count": 10,
   "id": "1320cf9a",
   "metadata": {
    "execution": {
     "iopub.execute_input": "2024-09-06T07:54:08.011031Z",
     "iopub.status.busy": "2024-09-06T07:54:08.009929Z",
     "iopub.status.idle": "2024-09-06T07:54:08.021033Z",
     "shell.execute_reply": "2024-09-06T07:54:08.019809Z"
    },
    "papermill": {
     "duration": 0.032075,
     "end_time": "2024-09-06T07:54:08.023684",
     "exception": false,
     "start_time": "2024-09-06T07:54:07.991609",
     "status": "completed"
    },
    "tags": []
   },
   "outputs": [],
   "source": [
    "# define separate dataframes for numeric and categorical values \n",
    "df_num = train_data[['Age', 'SibSp', 'Parch', 'Fare']]\n",
    "df_cat = train_data[['Survived', 'Pclass', 'Sex', 'Ticket', 'Cabin', 'Embarked']]"
   ]
  },
  {
   "cell_type": "code",
   "execution_count": 11,
   "id": "8ffc2bd6",
   "metadata": {
    "execution": {
     "iopub.execute_input": "2024-09-06T07:54:08.056099Z",
     "iopub.status.busy": "2024-09-06T07:54:08.055354Z",
     "iopub.status.idle": "2024-09-06T07:54:09.190387Z",
     "shell.execute_reply": "2024-09-06T07:54:09.189212Z"
    },
    "papermill": {
     "duration": 1.153869,
     "end_time": "2024-09-06T07:54:09.192832",
     "exception": false,
     "start_time": "2024-09-06T07:54:08.038963",
     "status": "completed"
    },
    "tags": []
   },
   "outputs": [
    {
     "data": {
      "image/png": "[encoded data removed]",
      "text/plain": [
       "<Figure size 640x480 with 1 Axes>"
      ]
     },
     "metadata": {},
     "output_type": "display_data"
    },
    {
     "data": {
      "image/png": "[encoded data removed]",
      "text/plain": [
       "<Figure size 640x480 with 1 Axes>"
      ]
     },
     "metadata": {},
     "output_type": "display_data"
    },
    {
     "data": {
      "image/png": "[encoded data removed]",
      "text/plain": [
       "<Figure size 640x480 with 1 Axes>"
      ]
     },
     "metadata": {},
     "output_type": "display_data"
    },
    {
     "data": {
      "image/png": "[encoded data removed]",
      "text/plain": [
       "<Figure size 640x480 with 1 Axes>"
      ]
     },
     "metadata": {},
     "output_type": "display_data"
    }
   ],
   "source": [
    "# plot distributions for all numeric variables \n",
    "for i in df_num.columns: \n",
    "    plt.hist(df_num[i])\n",
    "    plt.title(i)\n",
    "    plt.show()"
   ]
  },
  {
   "cell_type": "markdown",
   "id": "ac7ccc72",
   "metadata": {
    "papermill": {
     "duration": 0.012857,
     "end_time": "2024-09-06T07:54:09.218841",
     "exception": false,
     "start_time": "2024-09-06T07:54:09.205984",
     "status": "completed"
    },
    "tags": []
   },
   "source": [
    "The variable 'Age' seems to have normal distribution, while the others do not have it. We might consider normalize the others (e.g., 'Fare'). "
   ]
  },
  {
   "cell_type": "code",
   "execution_count": 12,
   "id": "c664da3d",
   "metadata": {
    "execution": {
     "iopub.execute_input": "2024-09-06T07:54:09.247280Z",
     "iopub.status.busy": "2024-09-06T07:54:09.246798Z",
     "iopub.status.idle": "2024-09-06T07:54:09.568447Z",
     "shell.execute_reply": "2024-09-06T07:54:09.567138Z"
    },
    "papermill": {
     "duration": 0.339576,
     "end_time": "2024-09-06T07:54:09.571920",
     "exception": false,
     "start_time": "2024-09-06T07:54:09.232344",
     "status": "completed"
    },
    "tags": []
   },
   "outputs": [
    {
     "name": "stdout",
     "output_type": "stream",
     "text": [
      "            Age     SibSp     Parch      Fare\n",
      "Age    1.000000 -0.308247 -0.189119  0.096067\n",
      "SibSp -0.308247  1.000000  0.414838  0.159651\n",
      "Parch -0.189119  0.414838  1.000000  0.216225\n",
      "Fare   0.096067  0.159651  0.216225  1.000000\n"
     ]
    },
    {
     "data": {
      "text/plain": [
       "<Axes: >"
      ]
     },
     "execution_count": 12,
     "metadata": {},
     "output_type": "execute_result"
    },
    {
     "data": {
      "image/png": "[encoded data removed]",
      "text/plain": [
       "<Figure size 640x480 with 2 Axes>"
      ]
     },
     "metadata": {},
     "output_type": "display_data"
    }
   ],
   "source": [
    "# check correlation between numeric variables \n",
    "print(df_num.corr())\n",
    "\n",
    "# plot heatmap\n",
    "sns.heatmap(df_num.corr())"
   ]
  },
  {
   "cell_type": "markdown",
   "id": "e5cbbe89",
   "metadata": {
    "papermill": {
     "duration": 0.014934,
     "end_time": "2024-09-06T07:54:09.605263",
     "exception": false,
     "start_time": "2024-09-06T07:54:09.590329",
     "status": "completed"
    },
    "tags": []
   },
   "source": [
    "We observe a correlation between 'SibSp' and 'Parch', which is resonable since families tend to travel together. "
   ]
  },
  {
   "cell_type": "code",
   "execution_count": 13,
   "id": "613f8bbb",
   "metadata": {
    "execution": {
     "iopub.execute_input": "2024-09-06T07:54:09.635015Z",
     "iopub.status.busy": "2024-09-06T07:54:09.633962Z",
     "iopub.status.idle": "2024-09-06T07:54:09.655957Z",
     "shell.execute_reply": "2024-09-06T07:54:09.654738Z"
    },
    "papermill": {
     "duration": 0.03961,
     "end_time": "2024-09-06T07:54:09.658560",
     "exception": false,
     "start_time": "2024-09-06T07:54:09.618950",
     "status": "completed"
    },
    "tags": []
   },
   "outputs": [
    {
     "data": {
      "text/html": [
       "<div>\n",
       "<style scoped>\n",
       "    .dataframe tbody tr th:only-of-type {\n",
       "        vertical-align: middle;\n",
       "    }\n",
       "\n",
       "    .dataframe tbody tr th {\n",
       "        vertical-align: top;\n",
       "    }\n",
       "\n",
       "    .dataframe thead th {\n",
       "        text-align: right;\n",
       "    }\n",
       "</style>\n",
       "<table border=\"1\" class=\"dataframe\">\n",
       "  <thead>\n",
       "    <tr style=\"text-align: right;\">\n",
       "      <th></th>\n",
       "      <th>Age</th>\n",
       "      <th>Fare</th>\n",
       "      <th>Parch</th>\n",
       "      <th>SibSp</th>\n",
       "    </tr>\n",
       "    <tr>\n",
       "      <th>Survived</th>\n",
       "      <th></th>\n",
       "      <th></th>\n",
       "      <th></th>\n",
       "      <th></th>\n",
       "    </tr>\n",
       "  </thead>\n",
       "  <tbody>\n",
       "    <tr>\n",
       "      <th>0</th>\n",
       "      <td>30.626179</td>\n",
       "      <td>22.117887</td>\n",
       "      <td>0.329690</td>\n",
       "      <td>0.553734</td>\n",
       "    </tr>\n",
       "    <tr>\n",
       "      <th>1</th>\n",
       "      <td>28.343690</td>\n",
       "      <td>48.395408</td>\n",
       "      <td>0.464912</td>\n",
       "      <td>0.473684</td>\n",
       "    </tr>\n",
       "  </tbody>\n",
       "</table>\n",
       "</div>"
      ],
      "text/plain": [
       "                Age       Fare     Parch     SibSp\n",
       "Survived                                          \n",
       "0         30.626179  22.117887  0.329690  0.553734\n",
       "1         28.343690  48.395408  0.464912  0.473684"
      ]
     },
     "execution_count": 13,
     "metadata": {},
     "output_type": "execute_result"
    }
   ],
   "source": [
    "# compare survival rate across numeric variables - returns average value\n",
    "pd.pivot_table(train_data, index = 'Survived', values = df_num.columns)\n"
   ]
  },
  {
   "cell_type": "markdown",
   "id": "7c040752",
   "metadata": {
    "papermill": {
     "duration": 0.013385,
     "end_time": "2024-09-06T07:54:09.685823",
     "exception": false,
     "start_time": "2024-09-06T07:54:09.672438",
     "status": "completed"
    },
    "tags": []
   },
   "source": [
    "We might check if younger people have more chances of surviving, more rich, that are a parent or a child, or that have not siblings or spouses. "
   ]
  },
  {
   "cell_type": "code",
   "execution_count": 14,
   "id": "3642b80b",
   "metadata": {
    "execution": {
     "iopub.execute_input": "2024-09-06T07:54:09.716753Z",
     "iopub.status.busy": "2024-09-06T07:54:09.715771Z",
     "iopub.status.idle": "2024-09-06T07:54:18.584092Z",
     "shell.execute_reply": "2024-09-06T07:54:18.582084Z"
    },
    "papermill": {
     "duration": 8.887754,
     "end_time": "2024-09-06T07:54:18.587348",
     "exception": false,
     "start_time": "2024-09-06T07:54:09.699594",
     "status": "completed"
    },
    "tags": []
   },
   "outputs": [
    {
     "data": {
      "image/png": "[encoded data removed]",
      "text/plain": [
       "<Figure size 640x480 with 1 Axes>"
      ]
     },
     "metadata": {},
     "output_type": "display_data"
    },
    {
     "data": {
      "image/png": "[encoded data removed]",
      "text/plain": [
       "<Figure size 640x480 with 1 Axes>"
      ]
     },
     "metadata": {},
     "output_type": "display_data"
    },
    {
     "data": {
      "image/png": "[encoded data removed]",
      "text/plain": [
       "<Figure size 640x480 with 1 Axes>"
      ]
     },
     "metadata": {},
     "output_type": "display_data"
    },
    {
     "data": {
      "image/png": "[encoded data removed]",
      "text/plain": [
       "<Figure size 640x480 with 1 Axes>"
      ]
     },
     "metadata": {},
     "output_type": "display_data"
    },
    {
     "data": {
      "image/png": "[encoded data removed]",
      "text/plain": [
       "<Figure size 640x480 with 1 Axes>"
      ]
     },
     "metadata": {},
     "output_type": "display_data"
    },
    {
     "data": {
      "image/png": "[encoded data removed]",
      "text/plain": [
       "<Figure size 640x480 with 1 Axes>"
      ]
     },
     "metadata": {},
     "output_type": "display_data"
    }
   ],
   "source": [
    "# visualize categorical data using value_counts()\n",
    "for i in df_cat.columns: \n",
    "    sns.barplot(x=df_cat[i].value_counts().index, y=df_cat[i].value_counts()).set_title(i)\n",
    "    plt.show()"
   ]
  },
  {
   "cell_type": "code",
   "execution_count": 15,
   "id": "e4f2f636",
   "metadata": {
    "execution": {
     "iopub.execute_input": "2024-09-06T07:54:18.627043Z",
     "iopub.status.busy": "2024-09-06T07:54:18.626581Z",
     "iopub.status.idle": "2024-09-06T07:54:18.665289Z",
     "shell.execute_reply": "2024-09-06T07:54:18.664053Z"
    },
    "papermill": {
     "duration": 0.061854,
     "end_time": "2024-09-06T07:54:18.667694",
     "exception": false,
     "start_time": "2024-09-06T07:54:18.605840",
     "status": "completed"
    },
    "tags": []
   },
   "outputs": [
    {
     "name": "stdout",
     "output_type": "stream",
     "text": [
      "Pclass      1   2    3\n",
      "Survived              \n",
      "0          80  97  372\n",
      "1         136  87  119\n",
      "\n",
      "Sex       female  male\n",
      "Survived              \n",
      "0             81   468\n",
      "1            233   109\n",
      "\n",
      "Embarked   C   Q    S\n",
      "Survived             \n",
      "0         75  47  427\n",
      "1         93  30  217\n"
     ]
    }
   ],
   "source": [
    "# the column Ticket\n",
    "print(pd.pivot_table(train_data, index='Survived', columns='Pclass', values='Ticket', aggfunc='count'))\n",
    "print()\n",
    "print(pd.pivot_table(train_data, index='Survived', columns='Sex', values='Ticket', aggfunc='count'))\n",
    "print()\n",
    "print(pd.pivot_table(train_data, index='Survived', columns='Embarked', values='Ticket', aggfunc='count'))\n"
   ]
  },
  {
   "cell_type": "markdown",
   "id": "4691318a",
   "metadata": {
    "papermill": {
     "duration": 0.016328,
     "end_time": "2024-09-06T07:54:18.699855",
     "exception": false,
     "start_time": "2024-09-06T07:54:18.683527",
     "status": "completed"
    },
    "tags": []
   },
   "source": [
    "### Feature Engineering \n",
    "Simplify columns 'Cabin' and 'Ticket' in order to extract more insights. "
   ]
  },
  {
   "cell_type": "code",
   "execution_count": 16,
   "id": "aeba33a3",
   "metadata": {
    "execution": {
     "iopub.execute_input": "2024-09-06T07:54:18.735201Z",
     "iopub.status.busy": "2024-09-06T07:54:18.734060Z",
     "iopub.status.idle": "2024-09-06T07:54:18.747164Z",
     "shell.execute_reply": "2024-09-06T07:54:18.745726Z"
    },
    "papermill": {
     "duration": 0.033473,
     "end_time": "2024-09-06T07:54:18.750008",
     "exception": false,
     "start_time": "2024-09-06T07:54:18.716535",
     "status": "completed"
    },
    "tags": []
   },
   "outputs": [
    {
     "data": {
      "text/plain": [
       "cabin_multiple\n",
       "0    687\n",
       "1    180\n",
       "2     16\n",
       "3      6\n",
       "4      2\n",
       "Name: count, dtype: int64"
      ]
     },
     "execution_count": 16,
     "metadata": {},
     "output_type": "execute_result"
    }
   ],
   "source": [
    "# check if a passenger had multiple cabins\n",
    "df_cat.Cabin\n",
    "train_data['cabin_multiple'] = train_data.Cabin.apply(lambda x: 0 if pd.isna(x) else len(x.split(' ')))\n",
    "train_data['cabin_multiple'].value_counts()\n",
    "#train_data[['cabin_multiple', 'Cabin']] "
   ]
  },
  {
   "cell_type": "code",
   "execution_count": 17,
   "id": "349db136",
   "metadata": {
    "execution": {
     "iopub.execute_input": "2024-09-06T07:54:18.784037Z",
     "iopub.status.busy": "2024-09-06T07:54:18.783592Z",
     "iopub.status.idle": "2024-09-06T07:54:18.805962Z",
     "shell.execute_reply": "2024-09-06T07:54:18.804525Z"
    },
    "papermill": {
     "duration": 0.042719,
     "end_time": "2024-09-06T07:54:18.808892",
     "exception": false,
     "start_time": "2024-09-06T07:54:18.766173",
     "status": "completed"
    },
    "tags": []
   },
   "outputs": [
    {
     "data": {
      "text/html": [
       "<div>\n",
       "<style scoped>\n",
       "    .dataframe tbody tr th:only-of-type {\n",
       "        vertical-align: middle;\n",
       "    }\n",
       "\n",
       "    .dataframe tbody tr th {\n",
       "        vertical-align: top;\n",
       "    }\n",
       "\n",
       "    .dataframe thead th {\n",
       "        text-align: right;\n",
       "    }\n",
       "</style>\n",
       "<table border=\"1\" class=\"dataframe\">\n",
       "  <thead>\n",
       "    <tr style=\"text-align: right;\">\n",
       "      <th>cabin_multiple</th>\n",
       "      <th>0</th>\n",
       "      <th>1</th>\n",
       "      <th>2</th>\n",
       "      <th>3</th>\n",
       "      <th>4</th>\n",
       "    </tr>\n",
       "    <tr>\n",
       "      <th>Survived</th>\n",
       "      <th></th>\n",
       "      <th></th>\n",
       "      <th></th>\n",
       "      <th></th>\n",
       "      <th></th>\n",
       "    </tr>\n",
       "  </thead>\n",
       "  <tbody>\n",
       "    <tr>\n",
       "      <th>0</th>\n",
       "      <td>481.0</td>\n",
       "      <td>58.0</td>\n",
       "      <td>7.0</td>\n",
       "      <td>3.0</td>\n",
       "      <td>NaN</td>\n",
       "    </tr>\n",
       "    <tr>\n",
       "      <th>1</th>\n",
       "      <td>206.0</td>\n",
       "      <td>122.0</td>\n",
       "      <td>9.0</td>\n",
       "      <td>3.0</td>\n",
       "      <td>2.0</td>\n",
       "    </tr>\n",
       "  </tbody>\n",
       "</table>\n",
       "</div>"
      ],
      "text/plain": [
       "cabin_multiple      0      1    2    3    4\n",
       "Survived                                   \n",
       "0               481.0   58.0  7.0  3.0  NaN\n",
       "1               206.0  122.0  9.0  3.0  2.0"
      ]
     },
     "execution_count": 17,
     "metadata": {},
     "output_type": "execute_result"
    }
   ],
   "source": [
    "pd.pivot_table(train_data, index='Survived', columns = 'cabin_multiple', values= 'Ticket', aggfunc = 'count')"
   ]
  },
  {
   "cell_type": "code",
   "execution_count": 18,
   "id": "8a5f30f7",
   "metadata": {
    "execution": {
     "iopub.execute_input": "2024-09-06T07:54:18.843332Z",
     "iopub.status.busy": "2024-09-06T07:54:18.842914Z",
     "iopub.status.idle": "2024-09-06T07:54:18.852618Z",
     "shell.execute_reply": "2024-09-06T07:54:18.851224Z"
    },
    "papermill": {
     "duration": 0.029712,
     "end_time": "2024-09-06T07:54:18.855001",
     "exception": false,
     "start_time": "2024-09-06T07:54:18.825289",
     "status": "completed"
    },
    "tags": []
   },
   "outputs": [
    {
     "name": "stdout",
     "output_type": "stream",
     "text": [
      "cabin_adv\n",
      "n    687\n",
      "C     59\n",
      "B     47\n",
      "D     33\n",
      "E     32\n",
      "A     15\n",
      "F     13\n",
      "G      4\n",
      "T      1\n",
      "Name: count, dtype: int64\n"
     ]
    }
   ],
   "source": [
    "# create categories based on the cabin letter (n stands for null)\n",
    "train_data['cabin_adv'] = train_data.Cabin.apply(lambda x: str(x)[0])\n",
    "\n",
    "print(train_data.cabin_adv.value_counts())\n",
    "\n",
    "#train_data.cabin_adv"
   ]
  },
  {
   "cell_type": "code",
   "execution_count": 19,
   "id": "5af03235",
   "metadata": {
    "execution": {
     "iopub.execute_input": "2024-09-06T07:54:18.889565Z",
     "iopub.status.busy": "2024-09-06T07:54:18.889100Z",
     "iopub.status.idle": "2024-09-06T07:54:18.914590Z",
     "shell.execute_reply": "2024-09-06T07:54:18.913235Z"
    },
    "papermill": {
     "duration": 0.04583,
     "end_time": "2024-09-06T07:54:18.917467",
     "exception": false,
     "start_time": "2024-09-06T07:54:18.871637",
     "status": "completed"
    },
    "tags": []
   },
   "outputs": [
    {
     "data": {
      "text/html": [
       "<div>\n",
       "<style scoped>\n",
       "    .dataframe tbody tr th:only-of-type {\n",
       "        vertical-align: middle;\n",
       "    }\n",
       "\n",
       "    .dataframe tbody tr th {\n",
       "        vertical-align: top;\n",
       "    }\n",
       "\n",
       "    .dataframe thead th {\n",
       "        text-align: right;\n",
       "    }\n",
       "</style>\n",
       "<table border=\"1\" class=\"dataframe\">\n",
       "  <thead>\n",
       "    <tr style=\"text-align: right;\">\n",
       "      <th>cabin_adv</th>\n",
       "      <th>A</th>\n",
       "      <th>B</th>\n",
       "      <th>C</th>\n",
       "      <th>D</th>\n",
       "      <th>E</th>\n",
       "      <th>F</th>\n",
       "      <th>G</th>\n",
       "      <th>T</th>\n",
       "      <th>n</th>\n",
       "    </tr>\n",
       "    <tr>\n",
       "      <th>Survived</th>\n",
       "      <th></th>\n",
       "      <th></th>\n",
       "      <th></th>\n",
       "      <th></th>\n",
       "      <th></th>\n",
       "      <th></th>\n",
       "      <th></th>\n",
       "      <th></th>\n",
       "      <th></th>\n",
       "    </tr>\n",
       "  </thead>\n",
       "  <tbody>\n",
       "    <tr>\n",
       "      <th>0</th>\n",
       "      <td>8.0</td>\n",
       "      <td>12.0</td>\n",
       "      <td>24.0</td>\n",
       "      <td>8.0</td>\n",
       "      <td>8.0</td>\n",
       "      <td>5.0</td>\n",
       "      <td>2.0</td>\n",
       "      <td>1.0</td>\n",
       "      <td>481.0</td>\n",
       "    </tr>\n",
       "    <tr>\n",
       "      <th>1</th>\n",
       "      <td>7.0</td>\n",
       "      <td>35.0</td>\n",
       "      <td>35.0</td>\n",
       "      <td>25.0</td>\n",
       "      <td>24.0</td>\n",
       "      <td>8.0</td>\n",
       "      <td>2.0</td>\n",
       "      <td>NaN</td>\n",
       "      <td>206.0</td>\n",
       "    </tr>\n",
       "  </tbody>\n",
       "</table>\n",
       "</div>"
      ],
      "text/plain": [
       "cabin_adv    A     B     C     D     E    F    G    T      n\n",
       "Survived                                                    \n",
       "0          8.0  12.0  24.0   8.0   8.0  5.0  2.0  1.0  481.0\n",
       "1          7.0  35.0  35.0  25.0  24.0  8.0  2.0  NaN  206.0"
      ]
     },
     "execution_count": 19,
     "metadata": {},
     "output_type": "execute_result"
    }
   ],
   "source": [
    "# comparing survival rate by cabin\n",
    "pd.pivot_table(train_data, index='Survived', columns='cabin_adv', values='Name', aggfunc='count')"
   ]
  },
  {
   "cell_type": "markdown",
   "id": "d0758479",
   "metadata": {
    "papermill": {
     "duration": 0.018864,
     "end_time": "2024-09-06T07:54:18.955261",
     "exception": false,
     "start_time": "2024-09-06T07:54:18.936397",
     "status": "completed"
    },
    "tags": []
   },
   "source": [
    "The new categorical variable 'cabin_adv' seems to be a good indicator for survival rate. \n",
    "Now we proceed with the understanding of the columns 'Ticket'. "
   ]
  },
  {
   "cell_type": "code",
   "execution_count": 20,
   "id": "f59f0f73",
   "metadata": {
    "execution": {
     "iopub.execute_input": "2024-09-06T07:54:18.993387Z",
     "iopub.status.busy": "2024-09-06T07:54:18.992805Z",
     "iopub.status.idle": "2024-09-06T07:54:19.004861Z",
     "shell.execute_reply": "2024-09-06T07:54:19.003561Z"
    },
    "papermill": {
     "duration": 0.03431,
     "end_time": "2024-09-06T07:54:19.007540",
     "exception": false,
     "start_time": "2024-09-06T07:54:18.973230",
     "status": "completed"
    },
    "tags": []
   },
   "outputs": [
    {
     "data": {
      "text/plain": [
       "numeric_ticket\n",
       "1    661\n",
       "0    230\n",
       "Name: count, dtype: int64"
      ]
     },
     "execution_count": 20,
     "metadata": {},
     "output_type": "execute_result"
    }
   ],
   "source": [
    "# train_data.Ticket\n",
    "train_data['numeric_ticket'] = train_data.Ticket.apply(lambda x: 1 if x.isnumeric() else 0)\n",
    "train_data['numeric_ticket'].value_counts()"
   ]
  },
  {
   "cell_type": "code",
   "execution_count": 21,
   "id": "789cdbbf",
   "metadata": {
    "execution": {
     "iopub.execute_input": "2024-09-06T07:54:19.043661Z",
     "iopub.status.busy": "2024-09-06T07:54:19.043227Z",
     "iopub.status.idle": "2024-09-06T07:54:19.057262Z",
     "shell.execute_reply": "2024-09-06T07:54:19.055741Z"
    },
    "papermill": {
     "duration": 0.035093,
     "end_time": "2024-09-06T07:54:19.060046",
     "exception": false,
     "start_time": "2024-09-06T07:54:19.024953",
     "status": "completed"
    },
    "tags": []
   },
   "outputs": [
    {
     "data": {
      "text/plain": [
       "name_title\n",
       "Mr              517\n",
       "Miss            182\n",
       "Mrs             125\n",
       "Master           40\n",
       "Dr                7\n",
       "Rev               6\n",
       "Mlle              2\n",
       "Major             2\n",
       "Col               2\n",
       "the Countess      1\n",
       "Capt              1\n",
       "Ms                1\n",
       "Sir               1\n",
       "Lady              1\n",
       "Mme               1\n",
       "Don               1\n",
       "Jonkheer          1\n",
       "Name: count, dtype: int64"
      ]
     },
     "execution_count": 21,
     "metadata": {},
     "output_type": "execute_result"
    }
   ],
   "source": [
    "#train_data.Name\n",
    "train_data['name_title'] = train_data.Name.apply(lambda x: x.split(',')[1].split('.')[0].strip())\n",
    "train_data['name_title'].value_counts()"
   ]
  },
  {
   "cell_type": "markdown",
   "id": "fda8e2cd",
   "metadata": {
    "papermill": {
     "duration": 0.017975,
     "end_time": "2024-09-06T07:54:19.095485",
     "exception": false,
     "start_time": "2024-09-06T07:54:19.077510",
     "status": "completed"
    },
    "tags": []
   },
   "source": [
    "## Data Preprocessing \n",
    "- Drop null values from Embarked\n",
    "- Include only relevant variables ('Pclass', 'Age', 'SibSp', 'Parch', 'Fare', 'Embarked', 'cabin_adv', 'cabin_multiple', 'numeric_ticket', 'name_title') \n",
    "- Do categorical transforms on all data\n",
    "- Fill the missing values with mean for Fare and Age \n",
    "- Normalize Fare \n",
    "- Scale data 0-1 with standard scaler "
   ]
  },
  {
   "cell_type": "code",
   "execution_count": 22,
   "id": "9fcbdad5",
   "metadata": {
    "execution": {
     "iopub.execute_input": "2024-09-06T07:54:19.135522Z",
     "iopub.status.busy": "2024-09-06T07:54:19.135033Z",
     "iopub.status.idle": "2024-09-06T07:54:19.155191Z",
     "shell.execute_reply": "2024-09-06T07:54:19.153835Z"
    },
    "papermill": {
     "duration": 0.042047,
     "end_time": "2024-09-06T07:54:19.157910",
     "exception": false,
     "start_time": "2024-09-06T07:54:19.115863",
     "status": "completed"
    },
    "tags": []
   },
   "outputs": [],
   "source": [
    "# create all categorical variables from above and add them to all_data\n",
    "all_data['cabin_multiple'] = all_data.Cabin.apply(lambda x: 0 if pd.isna(x) else len(x.split(' ')))\n",
    "all_data['cabin_adv'] = all_data.Cabin.apply(lambda x: str(x)[0])\n",
    "all_data['numeric_ticket'] = all_data.Ticket.apply(lambda x: 1 if x.isnumeric() else 0)\n",
    "all_data['ticket_letters'] = all_data.Ticket.apply(lambda x: ''.join(x.split(' ')[:-1]).replace('.','').replace('/','').lower() if len(x.split(' ')[:-1]) >0 else 0)\n",
    "all_data['name_title'] = all_data.Name.apply(lambda x: x.split(',')[1].split('.')[0].strip())\n",
    "\n",
    "#all_data"
   ]
  },
  {
   "cell_type": "code",
   "execution_count": 23,
   "id": "a9fd6f96",
   "metadata": {
    "execution": {
     "iopub.execute_input": "2024-09-06T07:54:19.194448Z",
     "iopub.status.busy": "2024-09-06T07:54:19.194020Z",
     "iopub.status.idle": "2024-09-06T07:54:19.206987Z",
     "shell.execute_reply": "2024-09-06T07:54:19.205642Z"
    },
    "papermill": {
     "duration": 0.033868,
     "end_time": "2024-09-06T07:54:19.209668",
     "exception": false,
     "start_time": "2024-09-06T07:54:19.175800",
     "status": "completed"
    },
    "tags": []
   },
   "outputs": [],
   "source": [
    "# fill in missing values \n",
    "all_data.Age = all_data.Age.fillna(train_data.Age.median())\n",
    "all_data.Fare = all_data.Fare.fillna(train_data.Fare.median())\n",
    "\n",
    "# drop nans\n",
    "all_data.dropna(subset=['Embarked'], inplace = True)\n",
    "#all_data.Embarked.size"
   ]
  },
  {
   "cell_type": "code",
   "execution_count": 24,
   "id": "3f6e7666",
   "metadata": {
    "execution": {
     "iopub.execute_input": "2024-09-06T07:54:19.307241Z",
     "iopub.status.busy": "2024-09-06T07:54:19.306796Z",
     "iopub.status.idle": "2024-09-06T07:54:19.634489Z",
     "shell.execute_reply": "2024-09-06T07:54:19.632918Z"
    },
    "papermill": {
     "duration": 0.411092,
     "end_time": "2024-09-06T07:54:19.637718",
     "exception": false,
     "start_time": "2024-09-06T07:54:19.226626",
     "status": "completed"
    },
    "tags": []
   },
   "outputs": [
    {
     "data": {
      "text/plain": [
       "<Axes: >"
      ]
     },
     "execution_count": 24,
     "metadata": {},
     "output_type": "execute_result"
    },
    {
     "data": {
      "image/png": "[encoded data removed]",
      "text/plain": [
       "<Figure size 640x480 with 1 Axes>"
      ]
     },
     "metadata": {},
     "output_type": "display_data"
    }
   ],
   "source": [
    "#log norm of Fare \n",
    "all_data['norm_fare'] = np.log(all_data.Fare+1)\n",
    "all_data['norm_fare'].hist()"
   ]
  },
  {
   "cell_type": "code",
   "execution_count": 25,
   "id": "c4915a08",
   "metadata": {
    "execution": {
     "iopub.execute_input": "2024-09-06T07:54:19.674695Z",
     "iopub.status.busy": "2024-09-06T07:54:19.674224Z",
     "iopub.status.idle": "2024-09-06T07:54:19.681181Z",
     "shell.execute_reply": "2024-09-06T07:54:19.679690Z"
    },
    "papermill": {
     "duration": 0.028147,
     "end_time": "2024-09-06T07:54:19.684067",
     "exception": false,
     "start_time": "2024-09-06T07:54:19.655920",
     "status": "completed"
    },
    "tags": []
   },
   "outputs": [],
   "source": [
    "# convert Pclass to a category (it was a numeric variable 1, 2, 3)\n",
    "all_data.Pclass = all_data.Pclass.astype(str)"
   ]
  },
  {
   "cell_type": "code",
   "execution_count": 26,
   "id": "6f4880a3",
   "metadata": {
    "execution": {
     "iopub.execute_input": "2024-09-06T07:54:19.723444Z",
     "iopub.status.busy": "2024-09-06T07:54:19.722325Z",
     "iopub.status.idle": "2024-09-06T07:54:19.744606Z",
     "shell.execute_reply": "2024-09-06T07:54:19.743223Z"
    },
    "papermill": {
     "duration": 0.044869,
     "end_time": "2024-09-06T07:54:19.747376",
     "exception": false,
     "start_time": "2024-09-06T07:54:19.702507",
     "status": "completed"
    },
    "tags": []
   },
   "outputs": [],
   "source": [
    "# create dummy variables for categories\n",
    "all_dummies = pd.get_dummies(all_data[['Pclass','Sex','Age','SibSp','Parch','norm_fare','Embarked','cabin_adv','cabin_multiple','numeric_ticket','name_title','train_test']])\n",
    "\n",
    "# split again the sets \n",
    "X_train = all_dummies[all_dummies.train_test == 1].drop(['train_test'], axis=1)\n",
    "X_test = all_dummies[all_dummies.train_test == 0].drop(['train_test'], axis=1)\n",
    "\n",
    "# Survived column from train data\n",
    "y_train = all_data[all_data.train_test==1].Survived"
   ]
  },
  {
   "cell_type": "code",
   "execution_count": 27,
   "id": "c6576144",
   "metadata": {
    "execution": {
     "iopub.execute_input": "2024-09-06T07:54:19.785250Z",
     "iopub.status.busy": "2024-09-06T07:54:19.784832Z",
     "iopub.status.idle": "2024-09-06T07:54:20.022946Z",
     "shell.execute_reply": "2024-09-06T07:54:20.021544Z"
    },
    "papermill": {
     "duration": 0.260979,
     "end_time": "2024-09-06T07:54:20.025908",
     "exception": false,
     "start_time": "2024-09-06T07:54:19.764929",
     "status": "completed"
    },
    "tags": []
   },
   "outputs": [],
   "source": [
    "# scale the data\n",
    "from sklearn.preprocessing import StandardScaler\n",
    "scale = StandardScaler()\n",
    "all_dummies_scaled = all_dummies.copy()\n",
    "all_dummies_scaled[['Age','SibSp','Parch','norm_fare']]= scale.fit_transform(all_dummies_scaled[['Age','SibSp','Parch','norm_fare']])\n",
    "all_dummies_scaled\n",
    "\n",
    "X_train_scaled = all_dummies_scaled[all_dummies_scaled.train_test == 1].drop(['train_test'], axis =1)\n",
    "X_test_scaled = all_dummies_scaled[all_dummies_scaled.train_test == 0].drop(['train_test'], axis =1)\n",
    "\n",
    "y_train = all_data[all_data.train_test==1].Survived"
   ]
  },
  {
   "cell_type": "markdown",
   "id": "a04a0b00",
   "metadata": {
    "papermill": {
     "duration": 0.01698,
     "end_time": "2024-09-06T07:54:20.060772",
     "exception": false,
     "start_time": "2024-09-06T07:54:20.043792",
     "status": "completed"
    },
    "tags": []
   },
   "source": [
    "## Model Building \n",
    "We try various models with default parameters. \n",
    "- Naive Bayes\n",
    "- Logistic Regression \n",
    "- Decision Tree \n",
    "- K-nearest Neighbor \n",
    "- Random forest\n",
    "- Support Vector Classfier \n",
    "- Xtreme Gradient Boosting \n",
    "- Soft Voting Classifier "
   ]
  },
  {
   "cell_type": "code",
   "execution_count": 28,
   "id": "a804bccc",
   "metadata": {
    "execution": {
     "iopub.execute_input": "2024-09-06T07:54:20.099804Z",
     "iopub.status.busy": "2024-09-06T07:54:20.099357Z",
     "iopub.status.idle": "2024-09-06T07:54:20.635448Z",
     "shell.execute_reply": "2024-09-06T07:54:20.633339Z"
    },
    "papermill": {
     "duration": 0.559323,
     "end_time": "2024-09-06T07:54:20.638246",
     "exception": false,
     "start_time": "2024-09-06T07:54:20.078923",
     "status": "completed"
    },
    "tags": []
   },
   "outputs": [],
   "source": [
    "# import packages from sklearn\n",
    "from sklearn.model_selection import cross_val_score\n",
    "from sklearn.naive_bayes import GaussianNB\n",
    "from sklearn.linear_model import LogisticRegression\n",
    "from sklearn import tree\n",
    "from sklearn.neighbors import KNeighborsClassifier\n",
    "from sklearn.ensemble import RandomForestClassifier\n",
    "from sklearn.svm import SVC"
   ]
  },
  {
   "cell_type": "code",
   "execution_count": 29,
   "id": "29c47ecd",
   "metadata": {
    "execution": {
     "iopub.execute_input": "2024-09-06T07:54:20.676994Z",
     "iopub.status.busy": "2024-09-06T07:54:20.676567Z",
     "iopub.status.idle": "2024-09-06T07:54:20.728803Z",
     "shell.execute_reply": "2024-09-06T07:54:20.727200Z"
    },
    "papermill": {
     "duration": 0.075051,
     "end_time": "2024-09-06T07:54:20.731975",
     "exception": false,
     "start_time": "2024-09-06T07:54:20.656924",
     "status": "completed"
    },
    "tags": []
   },
   "outputs": [
    {
     "name": "stdout",
     "output_type": "stream",
     "text": [
      "[0.66853933 0.70224719 0.75842697 0.74719101 0.73446328]\n",
      "0.7221735542436362\n"
     ]
    }
   ],
   "source": [
    "# we use Naive Bayes as a baseline for the classification \n",
    "gnb = GaussianNB()\n",
    "cv = cross_val_score(gnb, X_train_scaled, y_train, cv=5)\n",
    "print(cv)\n",
    "print(cv.mean())"
   ]
  },
  {
   "cell_type": "code",
   "execution_count": 30,
   "id": "19366581",
   "metadata": {
    "execution": {
     "iopub.execute_input": "2024-09-06T07:54:20.775261Z",
     "iopub.status.busy": "2024-09-06T07:54:20.774816Z",
     "iopub.status.idle": "2024-09-06T07:54:21.500608Z",
     "shell.execute_reply": "2024-09-06T07:54:21.499421Z"
    },
    "papermill": {
     "duration": 0.753046,
     "end_time": "2024-09-06T07:54:21.504627",
     "exception": false,
     "start_time": "2024-09-06T07:54:20.751581",
     "status": "completed"
    },
    "tags": []
   },
   "outputs": [
    {
     "name": "stdout",
     "output_type": "stream",
     "text": [
      "[0.8258427  0.80898876 0.80337079 0.82022472 0.85310734]\n",
      "0.8223068621849807\n"
     ]
    }
   ],
   "source": [
    "# logistic regression \n",
    "lr = LogisticRegression(max_iter=2000)\n",
    "cv = cross_val_score(lr, X_train, y_train, cv=5)\n",
    "print(cv)\n",
    "print(cv.mean())"
   ]
  },
  {
   "cell_type": "code",
   "execution_count": 31,
   "id": "b24d30e9",
   "metadata": {
    "execution": {
     "iopub.execute_input": "2024-09-06T07:54:21.571117Z",
     "iopub.status.busy": "2024-09-06T07:54:21.570430Z",
     "iopub.status.idle": "2024-09-06T07:54:21.752603Z",
     "shell.execute_reply": "2024-09-06T07:54:21.750932Z"
    },
    "papermill": {
     "duration": 0.220904,
     "end_time": "2024-09-06T07:54:21.756160",
     "exception": false,
     "start_time": "2024-09-06T07:54:21.535256",
     "status": "completed"
    },
    "tags": []
   },
   "outputs": [
    {
     "name": "stdout",
     "output_type": "stream",
     "text": [
      "[0.8258427  0.80898876 0.80337079 0.82022472 0.85310734]\n",
      "0.8223068621849807\n"
     ]
    }
   ],
   "source": [
    "# logistic regression on the scaled set \n",
    "lr = LogisticRegression(max_iter=2000)\n",
    "cv = cross_val_score(lr, X_train_scaled, y_train, cv=5)\n",
    "print(cv)\n",
    "print(cv.mean())"
   ]
  },
  {
   "cell_type": "code",
   "execution_count": 32,
   "id": "1044d12a",
   "metadata": {
    "execution": {
     "iopub.execute_input": "2024-09-06T07:54:21.826954Z",
     "iopub.status.busy": "2024-09-06T07:54:21.826333Z",
     "iopub.status.idle": "2024-09-06T07:54:21.900239Z",
     "shell.execute_reply": "2024-09-06T07:54:21.899170Z"
    },
    "papermill": {
     "duration": 0.112808,
     "end_time": "2024-09-06T07:54:21.903015",
     "exception": false,
     "start_time": "2024-09-06T07:54:21.790207",
     "status": "completed"
    },
    "tags": []
   },
   "outputs": [
    {
     "name": "stdout",
     "output_type": "stream",
     "text": [
      "[0.75842697 0.74719101 0.8258427  0.74719101 0.8079096 ]\n",
      "0.7773122579826065\n"
     ]
    }
   ],
   "source": [
    "# decision tree classifier \n",
    "dt = tree.DecisionTreeClassifier(random_state = 1)\n",
    "cv = cross_val_score(dt, X_train_scaled, y_train, cv=5)\n",
    "print(cv)\n",
    "print(cv.mean())"
   ]
  },
  {
   "cell_type": "code",
   "execution_count": 33,
   "id": "f60320a4",
   "metadata": {
    "execution": {
     "iopub.execute_input": "2024-09-06T07:54:21.942149Z",
     "iopub.status.busy": "2024-09-06T07:54:21.941081Z",
     "iopub.status.idle": "2024-09-06T07:54:22.103190Z",
     "shell.execute_reply": "2024-09-06T07:54:22.101418Z"
    },
    "papermill": {
     "duration": 0.18511,
     "end_time": "2024-09-06T07:54:22.106172",
     "exception": false,
     "start_time": "2024-09-06T07:54:21.921062",
     "status": "completed"
    },
    "tags": []
   },
   "outputs": [
    {
     "name": "stdout",
     "output_type": "stream",
     "text": [
      "[0.79775281 0.79213483 0.83146067 0.79775281 0.85310734]\n",
      "0.8144416936456548\n"
     ]
    }
   ],
   "source": [
    "# k-nearest neighbors\n",
    "knn = KNeighborsClassifier()\n",
    "cv = cross_val_score(knn, X_train_scaled, y_train, cv=5)\n",
    "print(cv)\n",
    "print(cv.mean())"
   ]
  },
  {
   "cell_type": "code",
   "execution_count": 34,
   "id": "3d947af5",
   "metadata": {
    "execution": {
     "iopub.execute_input": "2024-09-06T07:54:22.151637Z",
     "iopub.status.busy": "2024-09-06T07:54:22.151155Z",
     "iopub.status.idle": "2024-09-06T07:54:23.474210Z",
     "shell.execute_reply": "2024-09-06T07:54:23.472630Z"
    },
    "papermill": {
     "duration": 1.347103,
     "end_time": "2024-09-06T07:54:23.477111",
     "exception": false,
     "start_time": "2024-09-06T07:54:22.130008",
     "status": "completed"
    },
    "tags": []
   },
   "outputs": [
    {
     "name": "stdout",
     "output_type": "stream",
     "text": [
      "[0.80898876 0.79213483 0.84831461 0.73595506 0.82485876]\n",
      "0.8020504030978227\n"
     ]
    }
   ],
   "source": [
    "# random forest \n",
    "rf = RandomForestClassifier(random_state = 1)\n",
    "cv = cross_val_score(rf, X_train, y_train, cv=5)\n",
    "print(cv)\n",
    "print(cv.mean())"
   ]
  },
  {
   "cell_type": "code",
   "execution_count": 35,
   "id": "ad7b766e",
   "metadata": {
    "execution": {
     "iopub.execute_input": "2024-09-06T07:54:23.523112Z",
     "iopub.status.busy": "2024-09-06T07:54:23.522646Z",
     "iopub.status.idle": "2024-09-06T07:54:24.842152Z",
     "shell.execute_reply": "2024-09-06T07:54:24.840891Z"
    },
    "papermill": {
     "duration": 1.346811,
     "end_time": "2024-09-06T07:54:24.844893",
     "exception": false,
     "start_time": "2024-09-06T07:54:23.498082",
     "status": "completed"
    },
    "tags": []
   },
   "outputs": [
    {
     "name": "stdout",
     "output_type": "stream",
     "text": [
      "[0.80337079 0.79213483 0.84831461 0.73595506 0.82485876]\n",
      "0.8009268075922046\n"
     ]
    }
   ],
   "source": [
    "# random forest \n",
    "rf = RandomForestClassifier(random_state = 1)\n",
    "cv = cross_val_score(rf, X_train_scaled, y_train, cv=5)\n",
    "print(cv)\n",
    "print(cv.mean())"
   ]
  },
  {
   "cell_type": "code",
   "execution_count": 36,
   "id": "ac9a5d0e",
   "metadata": {
    "execution": {
     "iopub.execute_input": "2024-09-06T07:54:24.884207Z",
     "iopub.status.busy": "2024-09-06T07:54:24.883758Z",
     "iopub.status.idle": "2024-09-06T07:54:25.431243Z",
     "shell.execute_reply": "2024-09-06T07:54:25.429862Z"
    },
    "papermill": {
     "duration": 0.569649,
     "end_time": "2024-09-06T07:54:25.433947",
     "exception": false,
     "start_time": "2024-09-06T07:54:24.864298",
     "status": "completed"
    },
    "tags": []
   },
   "outputs": [
    {
     "name": "stdout",
     "output_type": "stream",
     "text": [
      "[0.85393258 0.82022472 0.8258427  0.80337079 0.86440678]\n",
      "0.8335555132355742\n"
     ]
    }
   ],
   "source": [
    "# support vector classifier \n",
    "svc = SVC(probability = True)\n",
    "cv = cross_val_score(svc, X_train_scaled, y_train, cv=5)\n",
    "print(cv)\n",
    "print(cv.mean())"
   ]
  },
  {
   "cell_type": "code",
   "execution_count": 37,
   "id": "6fa3313c",
   "metadata": {
    "execution": {
     "iopub.execute_input": "2024-09-06T07:54:25.471902Z",
     "iopub.status.busy": "2024-09-06T07:54:25.471433Z",
     "iopub.status.idle": "2024-09-06T07:54:26.274772Z",
     "shell.execute_reply": "2024-09-06T07:54:26.273256Z"
    },
    "papermill": {
     "duration": 0.826253,
     "end_time": "2024-09-06T07:54:26.277698",
     "exception": false,
     "start_time": "2024-09-06T07:54:25.451445",
     "status": "completed"
    },
    "tags": []
   },
   "outputs": [
    {
     "name": "stdout",
     "output_type": "stream",
     "text": [
      "[0.80337079 0.80898876 0.85393258 0.78651685 0.80225989]\n",
      "0.8110137751539389\n"
     ]
    }
   ],
   "source": [
    "# extreme gradient boosting\n",
    "from xgboost import XGBClassifier\n",
    "xgb = XGBClassifier(random_state =1)\n",
    "cv = cross_val_score(xgb,X_train_scaled,y_train,cv=5)\n",
    "print(cv)\n",
    "print(cv.mean())"
   ]
  },
  {
   "cell_type": "code",
   "execution_count": 38,
   "id": "4c09509d",
   "metadata": {
    "execution": {
     "iopub.execute_input": "2024-09-06T07:54:26.316317Z",
     "iopub.status.busy": "2024-09-06T07:54:26.315497Z",
     "iopub.status.idle": "2024-09-06T07:54:29.205116Z",
     "shell.execute_reply": "2024-09-06T07:54:29.203755Z"
    },
    "papermill": {
     "duration": 2.911716,
     "end_time": "2024-09-06T07:54:29.207972",
     "exception": false,
     "start_time": "2024-09-06T07:54:26.296256",
     "status": "completed"
    },
    "tags": []
   },
   "outputs": [
    {
     "name": "stdout",
     "output_type": "stream",
     "text": [
      "[0.8258427  0.81460674 0.83146067 0.79775281 0.84745763]\n",
      "0.8234241096933917\n"
     ]
    }
   ],
   "source": [
    "# soft voting classifier \n",
    "from sklearn.ensemble import VotingClassifier\n",
    "voting_clf = VotingClassifier(estimators = [('lr',lr),('knn',knn),('rf',rf),('gnb',gnb),('svc',svc),('xgb',xgb)], voting = 'soft') \n",
    "cv = cross_val_score(voting_clf,X_train_scaled,y_train,cv=5)\n",
    "print(cv)\n",
    "print(cv.mean())"
   ]
  },
  {
   "cell_type": "markdown",
   "id": "8b0e6442",
   "metadata": {
    "papermill": {
     "duration": 0.019248,
     "end_time": "2024-09-06T07:54:29.245039",
     "exception": false,
     "start_time": "2024-09-06T07:54:29.225791",
     "status": "completed"
    },
    "tags": []
   },
   "source": [
    "The support vector classifier has the best score, hence we make predictions using this model and make a submission file. "
   ]
  },
  {
   "cell_type": "code",
   "execution_count": 39,
   "id": "9d4e60a1",
   "metadata": {
    "execution": {
     "iopub.execute_input": "2024-09-06T07:54:29.286541Z",
     "iopub.status.busy": "2024-09-06T07:54:29.285429Z",
     "iopub.status.idle": "2024-09-06T07:54:29.346762Z",
     "shell.execute_reply": "2024-09-06T07:54:29.344725Z"
    },
    "papermill": {
     "duration": 0.085582,
     "end_time": "2024-09-06T07:54:29.350008",
     "exception": false,
     "start_time": "2024-09-06T07:54:29.264426",
     "status": "completed"
    },
    "tags": []
   },
   "outputs": [],
   "source": [
    "# make predictions \n",
    "svc = SVC()\n",
    "svc.fit(X_train_scaled, y_train)\n",
    "y_pred = svc.predict(X_test_scaled).astype(int)\n",
    "\n",
    "# make the data frame for the submission file\n",
    "submission = pd.DataFrame({'PassengerId' : test_data.PassengerId, \n",
    "                          'Survived' : y_pred\n",
    "                          })\n",
    "\n",
    "#print(submission.Survived.sum())\n",
    "#submission.head()\n",
    "\n",
    "# create the file \n",
    "submission.to_csv('submission.csv', index=False)"
   ]
  }
 ],
 "metadata": {
  "kaggle": {
   "accelerator": "none",
   "dataSources": [
    {
     "databundleVersionId": 26502,
     "sourceId": 3136,
     "sourceType": "competition"
    }
   ],
   "dockerImageVersionId": 30761,
   "isGpuEnabled": false,
   "isInternetEnabled": true,
   "language": "python",
   "sourceType": "notebook"
  },
  "kernelspec": {
   "display_name": "Python 3",
   "language": "python",
   "name": "python3"
  },
  "language_info": {
   "codemirror_mode": {
    "name": "ipython",
    "version": 3
   },
   "file_extension": ".py",
   "mimetype": "text/x-python",
   "name": "python",
   "nbconvert_exporter": "python",
   "pygments_lexer": "ipython3",
   "version": "3.10.14"
  },
  "papermill": {
   "default_parameters": {},
   "duration": 30.201691,
   "end_time": "2024-09-06T07:54:30.394794",
   "environment_variables": {},
   "exception": null,
   "input_path": "__notebook__.ipynb",
   "output_path": "__notebook__.ipynb",
   "parameters": {},
   "start_time": "2024-09-06T07:54:00.193103",
   "version": "2.6.0"
  }
 },
 "nbformat": 4,
 "nbformat_minor": 5
}
